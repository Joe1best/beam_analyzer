{
 "cells": [
  {
   "cell_type": "code",
   "execution_count": 5,
   "metadata": {},
   "outputs": [],
   "source": [
    "import numpy as np\n",
    "from pygsm import GSMObserver\n",
    "from pygsm import GlobalSkyModel\n",
    "import healpy\n",
    "import matplotlib.pyplot as plt\n",
    "from scipy import interpolate\n",
    "\n",
    "#Code below is just data extraction \n",
    "tag='100mhz'\n",
    "fname=tag+'/results_pattern_' + tag + '_total90.dat'\n",
    "dat=np.loadtxt(fname,delimiter=',')\n",
    "f=open(fname,'r')\n",
    "ll=f.readline()[:-1]\n",
    "f.close()\n",
    "\n",
    "ii=ll.find(',')\n",
    "ll=ll[ii+2:]\n",
    "ii=ll.find(',')\n",
    "ll=ll[ii+2:]\n",
    "freqs=np.fromstring(ll,sep=',')[:-1]/1e6\n",
    "\n",
    "\n",
    "th=dat[:,0]\n",
    "phi=dat[:,1]\n",
    "\n",
    "nth=len(np.unique(th))\n",
    "nphi=len(np.unique(phi))\n",
    "\n",
    "th=th*np.pi/180\n",
    "phi=phi*np.pi/180\n",
    "\n",
    "thmat=np.reshape(th,[nphi,nth])\n",
    "phimat=np.reshape(phi,[nphi,nth])\n",
    "th=thmat[0,:]\n",
    "phi=phimat[:,0]\n",
    "\n",
    "dat=dat[:,2:]\n",
    "nspec=dat.shape[1]"
   ]
  },
  {
   "cell_type": "code",
   "execution_count": 6,
   "metadata": {},
   "outputs": [],
   "source": [
    "def almsdotalms(alms1,alms2,nside=None):\n",
    "    \"\"\"\n",
    "    Function that convolutes two alm spaces together \n",
    "    \"\"\"\n",
    "    nalm=len(alms2)\n",
    "    lmax=np.int(np.sqrt(2*nalm))\n",
    "    if nside is None:\n",
    "        nside=np.int(lmax/3)\n",
    "    if len(alms1.shape)==1:\n",
    "        ans=2*np.dot(np.conj(alms1[lmax:]),alms2[lmax:])\n",
    "        ans=ans+np.dot(alms1[:lmax],alms2[:lmax])\n",
    "    else:\n",
    "        ans=2*np.dot(np.conj(alms1[lmax:,:].T),alms2[lmax:])\n",
    "        ans=ans+np.dot(alms1[:lmax,:].T,alms2[:lmax])\n",
    "    return np.real(ans)*healpy.nside2npix(nside)/4/np.pi\n",
    "\n",
    "def rotate_map(map,lat):\n",
    "    myrot=healpy.rotator.Rotator([0,0,90-lat]);\n",
    "    return myrot.rotate_map_pixel(map)"
   ]
  },
  {
   "cell_type": "code",
   "execution_count": 7,
   "metadata": {},
   "outputs": [],
   "source": [
    "#Picks an arbitrary nside (needs to be a power of 2)\n",
    "nside=256\n",
    "#Give the number of pixels for the given nside.\n",
    "npix=healpy.nside2npix(nside)\n",
    "#Gives the angle corresponding to each pixel (in rad)\n",
    "hp_th,hp_phi=healpy.pix2ang(nside,np.arange(npix))\n",
    "\n",
    "#Latitude here\n",
    "lat=-47\n",
    "\n",
    "\n",
    "#Find the indices at which theta changes\n",
    "inds=np.where(np.diff(hp_th)!=0)[0]\n",
    "inds=np.append(0,inds+1)\n",
    "\n",
    "#\n",
    "beams=np.zeros([len(hp_th),nspec])\n",
    "\n",
    "#\n",
    "tmp=healpy.sphtfunc.map2alm(beams[:,0])\n",
    "nalm=len(tmp)\n",
    "lvec=np.zeros(nalm,dtype='int64')\n",
    "mvec=np.zeros(nalm,dtype='int64')\n",
    "lmax=np.int(np.sqrt(2*nalm))\n",
    "\n",
    "icur=0\n",
    "for m in range(lmax):\n",
    "    nn=lmax-m\n",
    "    mvec[icur:icur+nn]=m\n",
    "    lvec[icur:icur+nn]=np.arange(m,lmax)\n",
    "    icur=icur+(lmax-m)\n",
    "    \n",
    "alms=np.zeros([nalm,nspec],dtype='complex')\n",
    "beam_norm=np.zeros(nspec)\n",
    "\n",
    "#loop over frequencies, then loop over theta values to create a set\n",
    "#of beams interpolated onto healpix coordinates.  Then take their\n",
    "#spherical harmonic transforms.\n",
    "for ii in range(nspec):\n",
    "    mat=10**(np.reshape(dat[:,ii],[nphi,nth])/10)\n",
    "\n",
    "    myinterp=interpolate.interp2d(th,phi,mat,'cubic',fill_value=0)\n",
    "    hp_beam=np.zeros(len(hp_th))\n",
    "\n",
    "    for i in range(np.int(len(inds)/2)+2):\n",
    "        i1=inds[i]\n",
    "        i2=inds[i+1]                                                       \n",
    "        hp_beam[i1:i2]=myinterp(hp_th[i1],hp_phi[i1:i2])[:,0]\n",
    "    beam_norm[ii]=np.sqrt(np.sum(hp_beam**2))\n",
    "    #beams[:,ii]=rotate_map(hp_beam/np.sqrt(np.sum(hp_beam**2)),lat)\n",
    "    beams[:,ii]=rotate_map(hp_beam/beam_norm[ii],lat)\n",
    "    #beams[:,ii]=hp_beam/np.sqrt(np.sum(hp_beam**2))\n",
    "    alms[:,ii]=healpy.sphtfunc.map2alm(beams[:,ii])\n",
    "    #assert(1==0)\n",
    "\n",
    "numin=55\n",
    "numax=105\n",
    "alms_scaled=alms.copy()\n",
    "\n",
    "imin=np.min(np.where(freqs>numin))\n",
    "imax=np.max(np.where(freqs<numax))\n",
    "\n",
    "mycov_cl=np.real(2*np.dot(np.conj(alms_scaled[lmax:,:].T),alms_scaled[lmax:,:])+np.dot(alms_scaled[:lmax,:].T,alms_scaled[:lmax,:]))\n",
    "ee,vv=np.linalg.eig(mycov_cl[imin:imax,imin:imax])\n",
    "\n",
    "mvec=np.zeros(nalm,dtype='int64')\n",
    "\n",
    "beam_modes=np.dot(alms[:,imin:imax],vv)\n",
    "\n",
    "#Transforms Gallactic coordinates to Elliptical coordinates \n",
    "myrot=healpy.rotator.Rotator(coord=['G','E'])\n",
    "\n",
    "#This part of the code generates the GSM map using pygsm \n",
    "gsm = GlobalSkyModel()\n",
    "\n",
    "#At frequency of 80MHz\n",
    "gsm_map_org=gsm.generate(80)\n",
    "#Degrades the map to the predefined nside of the map\n",
    "gsm_map_org=healpy.ud_grade(gsm_map_org,nside)\n",
    "#Rotate a HEALPix map to a new reference frame in pixel space\n",
    "gsm_map=myrot.rotate_map_pixel(gsm_map_org)\n",
    "\n",
    "#Converts the GSM sky model map to alms coefficients \n",
    "alms_gsm=healpy.map2alm(gsm_map)\n",
    "\n",
    "#Hour angle \n",
    "nha=96\n",
    "ha=np.arange(nha)/(1.0*nha)*2*np.pi\n",
    "\n",
    "#Resultant amplitude when multiplying both alms' together \n",
    "amps=np.zeros([beam_modes.shape[1],nha])\n",
    "\n",
    "#To rotate the map, we also multiply by a factor of e^(i(ha)phi)\n",
    "for i in range(nha):\n",
    "    amps[:,i]=almsdotalms(beam_modes,alms_gsm*np.exp(1J*ha[i]*mvec),nside=nside)"
   ]
  },
  {
   "cell_type": "code",
   "execution_count": 84,
   "metadata": {},
   "outputs": [
    {
     "data": {
      "text/plain": [
       "array([ 7.05158192e+03+0.j        ,  4.66883484e+02+0.j        ,\n",
       "       -6.37567706e+02+0.j        , ..., -1.74368785e-02+0.00104719j,\n",
       "        7.83712492e-04-0.00275715j,  4.66199574e-03-0.00651539j])"
      ]
     },
     "execution_count": 84,
     "metadata": {},
     "output_type": "execute_result"
    }
   ],
   "source": [
    "amps.shape\n",
    "amps\n",
    "alms_gsm"
   ]
  },
  {
   "cell_type": "code",
   "execution_count": 77,
   "metadata": {},
   "outputs": [
    {
     "name": "stdout",
     "output_type": "stream",
     "text": [
      "Sigma is 0.000000 arcmin (0.000000 rad) \n",
      "-> fwhm is 0.000000 arcmin\n"
     ]
    },
    {
     "ename": "ValueError",
     "evalue": "Array must be C contiguous for this operation.",
     "output_type": "error",
     "traceback": [
      "\u001b[0;31m---------------------------------------------------------------------------\u001b[0m",
      "\u001b[0;31mValueError\u001b[0m                                Traceback (most recent call last)",
      "\u001b[0;32m<ipython-input-77-4b3658647cee>\u001b[0m in \u001b[0;36m<module>\u001b[0;34m\u001b[0m\n\u001b[1;32m      2\u001b[0m \u001b[0;31m#beam_mode = 1\u001b[0m\u001b[0;34m\u001b[0m\u001b[0;34m\u001b[0m\u001b[0;34m\u001b[0m\u001b[0m\n\u001b[1;32m      3\u001b[0m \u001b[0;32mfor\u001b[0m \u001b[0mi\u001b[0m \u001b[0;32min\u001b[0m \u001b[0mrange\u001b[0m\u001b[0;34m(\u001b[0m\u001b[0mnha\u001b[0m\u001b[0;34m)\u001b[0m\u001b[0;34m:\u001b[0m\u001b[0;34m\u001b[0m\u001b[0;34m\u001b[0m\u001b[0m\n\u001b[0;32m----> 4\u001b[0;31m     \u001b[0mmaps_nha\u001b[0m\u001b[0;34m[\u001b[0m\u001b[0mi\u001b[0m\u001b[0;34m]\u001b[0m \u001b[0;34m=\u001b[0m \u001b[0mhealpy\u001b[0m\u001b[0;34m.\u001b[0m\u001b[0malm2map\u001b[0m\u001b[0;34m(\u001b[0m\u001b[0mamps\u001b[0m\u001b[0;34m[\u001b[0m\u001b[0;34m:\u001b[0m\u001b[0;34m,\u001b[0m\u001b[0mi\u001b[0m\u001b[0;34m]\u001b[0m\u001b[0;34m,\u001b[0m\u001b[0mnside\u001b[0m\u001b[0;34m=\u001b[0m\u001b[0mnside\u001b[0m\u001b[0;34m)\u001b[0m\u001b[0;34m\u001b[0m\u001b[0;34m\u001b[0m\u001b[0m\n\u001b[0m\u001b[1;32m      5\u001b[0m \u001b[0;34m\u001b[0m\u001b[0m\n\u001b[1;32m      6\u001b[0m \u001b[0;34m\u001b[0m\u001b[0m\n",
      "\u001b[0;32m~/.local/lib/python3.6/site-packages/healpy/sphtfunc.py\u001b[0m in \u001b[0;36malm2map\u001b[0;34m(alms, nside, lmax, mmax, pixwin, fwhm, sigma, pol, inplace, verbose)\u001b[0m\n\u001b[1;32m    337\u001b[0m     \u001b[0;32mif\u001b[0m \u001b[0mpol\u001b[0m\u001b[0;34m:\u001b[0m\u001b[0;34m\u001b[0m\u001b[0;34m\u001b[0m\u001b[0m\n\u001b[1;32m    338\u001b[0m         output = sphtlib._alm2map(\n\u001b[0;32m--> 339\u001b[0;31m             \u001b[0malms_new\u001b[0m\u001b[0;34m[\u001b[0m\u001b[0;36m0\u001b[0m\u001b[0;34m]\u001b[0m \u001b[0;32mif\u001b[0m \u001b[0mlonely\u001b[0m \u001b[0;32melse\u001b[0m \u001b[0mtuple\u001b[0m\u001b[0;34m(\u001b[0m\u001b[0malms_new\u001b[0m\u001b[0;34m)\u001b[0m\u001b[0;34m,\u001b[0m \u001b[0mnside\u001b[0m\u001b[0;34m,\u001b[0m \u001b[0mlmax\u001b[0m\u001b[0;34m=\u001b[0m\u001b[0mlmax\u001b[0m\u001b[0;34m,\u001b[0m \u001b[0mmmax\u001b[0m\u001b[0;34m=\u001b[0m\u001b[0mmmax\u001b[0m\u001b[0;34m\u001b[0m\u001b[0;34m\u001b[0m\u001b[0m\n\u001b[0m\u001b[1;32m    340\u001b[0m         )\n\u001b[1;32m    341\u001b[0m         \u001b[0;32mif\u001b[0m \u001b[0mlonely\u001b[0m\u001b[0;34m:\u001b[0m\u001b[0;34m\u001b[0m\u001b[0;34m\u001b[0m\u001b[0m\n",
      "\u001b[0;31mValueError\u001b[0m: Array must be C contiguous for this operation."
     ]
    }
   ],
   "source": [
    "maps_nha = np.zeros([beam_modes.shape[1],nha])\n",
    "#beam_mode = 1\n",
    "for i in range(nha):\n",
    "    maps_nha[i] = healpy.alm2map(amps[:,i],nside=nside)"
   ]
  },
  {
   "cell_type": "code",
   "execution_count": null,
   "metadata": {},
   "outputs": [],
   "source": []
  }
 ],
 "metadata": {
  "kernelspec": {
   "display_name": "Python 3",
   "language": "python",
   "name": "python3"
  },
  "language_info": {
   "codemirror_mode": {
    "name": "ipython",
    "version": 3
   },
   "file_extension": ".py",
   "mimetype": "text/x-python",
   "name": "python",
   "nbconvert_exporter": "python",
   "pygments_lexer": "ipython3",
   "version": "3.6.8"
  }
 },
 "nbformat": 4,
 "nbformat_minor": 2
}
